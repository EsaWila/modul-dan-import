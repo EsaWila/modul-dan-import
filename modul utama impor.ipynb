{
 "cells": [
  {
   "cell_type": "markdown",
   "id": "e5cb9441-9625-4e2b-aea4-6eaa1ec6a1fe",
   "metadata": {},
   "source": [
    "import aritmatika\n",
    "import konversi\n",
    "import ubah_bilangan\n",
    "\n",
    "import importlib\n",
    "importlib.reload(aritmatika)\n",
    "importlib.reload(konversi)\n",
    "importlib.reload(ubah_bilangan)"
   ]
  },
  {
   "cell_type": "code",
   "execution_count": null,
   "id": "4713143d-78e4-40a3-86e3-1d69ac9817ca",
   "metadata": {},
   "outputs": [
    {
     "name": "stdout",
     "output_type": "stream",
     "text": [
      "\n",
      "Menu Utama:\n",
      "1. Aritmatika\n",
      "2. Konversi\n",
      "3. Ubah Bilangan\n",
      "4. Keluar\n"
     ]
    }
   ],
   "source": [
    "def main_menu():\n",
    "    while True:\n",
    "        print(\"\\nMenu Utama:\")\n",
    "        print(\"1. Aritmatika\")\n",
    "        print(\"2. Konversi\")\n",
    "        print(\"3. Ubah Bilangan\")\n",
    "        print(\"4. Keluar\")\n",
    "\n",
    "        pilihan = input(\"Pilih menu (1-4): \")\n",
    "\n",
    "        if pilihan == '1':\n",
    "            aritmatika.menu_aritmatika()\n",
    "        elif pilihan == '2':\n",
    "            konversi.menu_konversi()\n",
    "        elif pilihan == '3':\n",
    "            ubah_bilangan.menu_ubah_bilangan()\n",
    "        elif pilihan == '4':\n",
    "            print(\"Terima kasih \")\n",
    "            break\n",
    "        else:\n",
    "            print(\"Pilihan tidak valid. Silakan coba lagi.\")\n",
    "\n",
    "\n",
    "main_menu()"
   ]
  },
  {
   "cell_type": "code",
   "execution_count": null,
   "id": "dff2a56b-7f13-4f9f-a873-19d87d1cd2ab",
   "metadata": {},
   "outputs": [],
   "source": []
  }
 ],
 "metadata": {
  "kernelspec": {
   "display_name": "Python [conda env:base] *",
   "language": "python",
   "name": "conda-base-py"
  },
  "language_info": {
   "codemirror_mode": {
    "name": "ipython",
    "version": 3
   },
   "file_extension": ".py",
   "mimetype": "text/x-python",
   "name": "python",
   "nbconvert_exporter": "python",
   "pygments_lexer": "ipython3",
   "version": "3.12.7"
  }
 },
 "nbformat": 4,
 "nbformat_minor": 5
}
